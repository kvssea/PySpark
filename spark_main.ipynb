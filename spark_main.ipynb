{
 "cells": [
  {
   "cell_type": "code",
   "execution_count": 5,
   "metadata": {},
   "outputs": [],
   "source": [
    "#from utils.utils import create_spark_postgres\n",
    "#df=create_spark_postgres(server_name=\"gis_analysis\", table_name=\"spatial_ref_sys\")"
   ]
  },
  {
   "cell_type": "code",
   "execution_count": 11,
   "metadata": {},
   "outputs": [
    {
     "name": "stdout",
     "output_type": "stream",
     "text": [
      "+-----+------------+\n",
      "|Alpha|avg(Numeric)|\n",
      "+-----+------------+\n",
      "|    A|         2.5|\n",
      "|    B|         3.5|\n",
      "|    C|         3.0|\n",
      "|    D|         4.0|\n",
      "+-----+------------+\n",
      "\n"
     ]
    }
   ],
   "source": [
    "from pyspark.sql import SparkSession\n",
    "from pyspark.sql.functions import avg\n",
    "\n",
    "spark = (SparkSession\n",
    "         .builder\n",
    "         .getOrCreate())\n",
    "\n",
    "data_df = spark.createDataFrame([(\"A\", 1), (\"B\", 2), (\"C\", 3), (\"D\", 4), (\"A\", 4), (\"B\", 5)], ['Alpha', 'Numeric'])\n",
    "avg_df=data_df.groupBy(\"Alpha\").agg(avg(\"Numeric\"))\n",
    "avg_df.show()"
   ]
  }
 ],
 "metadata": {
  "kernelspec": {
   "display_name": "pysp",
   "language": "python",
   "name": "python3"
  },
  "language_info": {
   "codemirror_mode": {
    "name": "ipython",
    "version": 3
   },
   "file_extension": ".py",
   "mimetype": "text/x-python",
   "name": "python",
   "nbconvert_exporter": "python",
   "pygments_lexer": "ipython3",
   "version": "3.12.2"
  }
 },
 "nbformat": 4,
 "nbformat_minor": 2
}
