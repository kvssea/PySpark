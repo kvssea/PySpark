{
 "cells": [
  {
   "cell_type": "code",
   "execution_count": 4,
   "metadata": {},
   "outputs": [
    {
     "name": "stderr",
     "output_type": "stream",
     "text": [
      "                                                                                \r"
     ]
    },
    {
     "name": "stdout",
     "output_type": "stream",
     "text": [
      "+----+---------+---------+--------------------+--------------------+\n",
      "|srid|auth_name|auth_srid|              srtext|           proj4text|\n",
      "+----+---------+---------+--------------------+--------------------+\n",
      "|2000|     EPSG|     2000|PROJCS[\"Anguilla ...|+proj=tmerc +lat_...|\n",
      "|2001|     EPSG|     2001|PROJCS[\"Antigua 1...|+proj=tmerc +lat_...|\n",
      "|2002|     EPSG|     2002|PROJCS[\"Dominica ...|+proj=tmerc +lat_...|\n",
      "|2003|     EPSG|     2003|PROJCS[\"Grenada 1...|+proj=tmerc +lat_...|\n",
      "|2004|     EPSG|     2004|PROJCS[\"Montserra...|+proj=tmerc +lat_...|\n",
      "+----+---------+---------+--------------------+--------------------+\n",
      "only showing top 5 rows\n",
      "\n"
     ]
    }
   ],
   "source": [
    "from utils.utils import create_spark_postgres\n",
    "\n",
    "df=create_spark_postgres(server_name=\"gis_analysis\", table_name=\"spatial_ref_sys\")\n",
    "df.show(5)"
   ]
  }
 ],
 "metadata": {
  "kernelspec": {
   "display_name": "pysp",
   "language": "python",
   "name": "python3"
  },
  "language_info": {
   "codemirror_mode": {
    "name": "ipython",
    "version": 3
   },
   "file_extension": ".py",
   "mimetype": "text/x-python",
   "name": "python",
   "nbconvert_exporter": "python",
   "pygments_lexer": "ipython3",
   "version": "3.12.2"
  }
 },
 "nbformat": 4,
 "nbformat_minor": 2
}
